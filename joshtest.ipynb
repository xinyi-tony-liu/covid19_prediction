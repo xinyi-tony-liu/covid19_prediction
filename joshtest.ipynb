{
 "metadata": {
  "language_info": {
   "codemirror_mode": {
    "name": "ipython",
    "version": 3
   },
   "file_extension": ".py",
   "mimetype": "text/x-python",
   "name": "python",
   "nbconvert_exporter": "python",
   "pygments_lexer": "ipython3",
   "version": "3.8.5-final"
  },
  "orig_nbformat": 2,
  "kernelspec": {
   "name": "python3",
   "display_name": "Python 3"
  }
 },
 "nbformat": 4,
 "nbformat_minor": 2,
 "cells": [
  {
   "cell_type": "code",
   "execution_count": 3,
   "metadata": {},
   "outputs": [],
   "source": [
    "import pandas as pd\n",
    "import numpy as np"
   ]
  },
  {
   "cell_type": "code",
   "execution_count": 7,
   "metadata": {},
   "outputs": [
    {
     "output_type": "execute_result",
     "data": {
      "text/plain": [
       "      pruid                  prname                   prnameFR        date  \\\n",
       "0        35                 Ontario                    Ontario  31-01-2020   \n",
       "1        59        British Columbia       Colombie-Britannique  31-01-2020   \n",
       "2         1                  Canada                     Canada  31-01-2020   \n",
       "3        35                 Ontario                    Ontario  08-02-2020   \n",
       "4        59        British Columbia       Colombie-Britannique  08-02-2020   \n",
       "...     ...                     ...                        ...         ...   \n",
       "3487     60                   Yukon                      Yukon  25-10-2020   \n",
       "3488     61   Northwest Territories  Territoires du Nord-Ouest  25-10-2020   \n",
       "3489     62                 Nunavut                    Nunavut  25-10-2020   \n",
       "3490     99  Repatriated travellers        Voyageurs rapatriés  25-10-2020   \n",
       "3491      1                  Canada                     Canada  25-10-2020   \n",
       "\n",
       "      numconf  numprob  numdeaths  numtotal  numtested  numrecover  ...  \\\n",
       "0           3        0        0.0         3        NaN         NaN  ...   \n",
       "1           1        0        0.0         1        NaN         NaN  ...   \n",
       "2           4        0        0.0         4        NaN         NaN  ...   \n",
       "3           3        0        0.0         3        NaN         NaN  ...   \n",
       "4           4        0        0.0         4        NaN         NaN  ...   \n",
       "...       ...      ...        ...       ...        ...         ...  ...   \n",
       "3487       20        0        0.0        20     3857.0        15.0  ...   \n",
       "3488        9        0        0.0         9     5259.0         5.0  ...   \n",
       "3489        0        0        0.0         0     2850.0         0.0  ...   \n",
       "3490       13        0        0.0        13       76.0        13.0  ...   \n",
       "3491   216104        0     9946.0    216104  9603477.0    181429.0  ...   \n",
       "\n",
       "      numactive  rateactive  numtotal_last14  ratetotal_last14  \\\n",
       "0           3.0        0.02              NaN               NaN   \n",
       "1           1.0        0.02              NaN               NaN   \n",
       "2           4.0        0.01              NaN               NaN   \n",
       "3           3.0        0.02              NaN               NaN   \n",
       "4           4.0        0.08              NaN               NaN   \n",
       "...         ...         ...              ...               ...   \n",
       "3487        5.0       12.24              5.0             12.24   \n",
       "3488        4.0        8.92              4.0              8.92   \n",
       "3489        NaN        0.00              0.0              0.00   \n",
       "3490        0.0         NaN              0.0               NaN   \n",
       "3491    24729.0       65.79          34240.0             91.09   \n",
       "\n",
       "      numdeaths_last14  ratedeaths_last14  avgtotal_last7  avgincidence_last7  \\\n",
       "0                  NaN                NaN             NaN                 NaN   \n",
       "1                  NaN                NaN             NaN                 NaN   \n",
       "2                  NaN                NaN             NaN                 NaN   \n",
       "3                  NaN                NaN             NaN                 NaN   \n",
       "4                  NaN                NaN             NaN                 NaN   \n",
       "...                ...                ...             ...                 ...   \n",
       "3487               0.0               0.00             1.0                1.75   \n",
       "3488               0.0               0.00             1.0                1.27   \n",
       "3489               0.0               0.00             0.0                0.00   \n",
       "3490               0.0                NaN             0.0                 NaN   \n",
       "3491             333.0               0.89          2565.0                6.82   \n",
       "\n",
       "      avgdeaths_last7  avgratedeaths_last7  \n",
       "0                 NaN                  NaN  \n",
       "1                 NaN                  NaN  \n",
       "2                 NaN                  NaN  \n",
       "3                 NaN                  NaN  \n",
       "4                 NaN                  NaN  \n",
       "...               ...                  ...  \n",
       "3487              0.0                 0.00  \n",
       "3488              0.0                 0.00  \n",
       "3489              0.0                 0.00  \n",
       "3490              0.0                  NaN  \n",
       "3491             27.0                 0.07  \n",
       "\n",
       "[3492 rows x 31 columns]"
      ],
      "text/html": "<div>\n<style scoped>\n    .dataframe tbody tr th:only-of-type {\n        vertical-align: middle;\n    }\n\n    .dataframe tbody tr th {\n        vertical-align: top;\n    }\n\n    .dataframe thead th {\n        text-align: right;\n    }\n</style>\n<table border=\"1\" class=\"dataframe\">\n  <thead>\n    <tr style=\"text-align: right;\">\n      <th></th>\n      <th>pruid</th>\n      <th>prname</th>\n      <th>prnameFR</th>\n      <th>date</th>\n      <th>numconf</th>\n      <th>numprob</th>\n      <th>numdeaths</th>\n      <th>numtotal</th>\n      <th>numtested</th>\n      <th>numrecover</th>\n      <th>...</th>\n      <th>numactive</th>\n      <th>rateactive</th>\n      <th>numtotal_last14</th>\n      <th>ratetotal_last14</th>\n      <th>numdeaths_last14</th>\n      <th>ratedeaths_last14</th>\n      <th>avgtotal_last7</th>\n      <th>avgincidence_last7</th>\n      <th>avgdeaths_last7</th>\n      <th>avgratedeaths_last7</th>\n    </tr>\n  </thead>\n  <tbody>\n    <tr>\n      <th>0</th>\n      <td>35</td>\n      <td>Ontario</td>\n      <td>Ontario</td>\n      <td>31-01-2020</td>\n      <td>3</td>\n      <td>0</td>\n      <td>0.0</td>\n      <td>3</td>\n      <td>NaN</td>\n      <td>NaN</td>\n      <td>...</td>\n      <td>3.0</td>\n      <td>0.02</td>\n      <td>NaN</td>\n      <td>NaN</td>\n      <td>NaN</td>\n      <td>NaN</td>\n      <td>NaN</td>\n      <td>NaN</td>\n      <td>NaN</td>\n      <td>NaN</td>\n    </tr>\n    <tr>\n      <th>1</th>\n      <td>59</td>\n      <td>British Columbia</td>\n      <td>Colombie-Britannique</td>\n      <td>31-01-2020</td>\n      <td>1</td>\n      <td>0</td>\n      <td>0.0</td>\n      <td>1</td>\n      <td>NaN</td>\n      <td>NaN</td>\n      <td>...</td>\n      <td>1.0</td>\n      <td>0.02</td>\n      <td>NaN</td>\n      <td>NaN</td>\n      <td>NaN</td>\n      <td>NaN</td>\n      <td>NaN</td>\n      <td>NaN</td>\n      <td>NaN</td>\n      <td>NaN</td>\n    </tr>\n    <tr>\n      <th>2</th>\n      <td>1</td>\n      <td>Canada</td>\n      <td>Canada</td>\n      <td>31-01-2020</td>\n      <td>4</td>\n      <td>0</td>\n      <td>0.0</td>\n      <td>4</td>\n      <td>NaN</td>\n      <td>NaN</td>\n      <td>...</td>\n      <td>4.0</td>\n      <td>0.01</td>\n      <td>NaN</td>\n      <td>NaN</td>\n      <td>NaN</td>\n      <td>NaN</td>\n      <td>NaN</td>\n      <td>NaN</td>\n      <td>NaN</td>\n      <td>NaN</td>\n    </tr>\n    <tr>\n      <th>3</th>\n      <td>35</td>\n      <td>Ontario</td>\n      <td>Ontario</td>\n      <td>08-02-2020</td>\n      <td>3</td>\n      <td>0</td>\n      <td>0.0</td>\n      <td>3</td>\n      <td>NaN</td>\n      <td>NaN</td>\n      <td>...</td>\n      <td>3.0</td>\n      <td>0.02</td>\n      <td>NaN</td>\n      <td>NaN</td>\n      <td>NaN</td>\n      <td>NaN</td>\n      <td>NaN</td>\n      <td>NaN</td>\n      <td>NaN</td>\n      <td>NaN</td>\n    </tr>\n    <tr>\n      <th>4</th>\n      <td>59</td>\n      <td>British Columbia</td>\n      <td>Colombie-Britannique</td>\n      <td>08-02-2020</td>\n      <td>4</td>\n      <td>0</td>\n      <td>0.0</td>\n      <td>4</td>\n      <td>NaN</td>\n      <td>NaN</td>\n      <td>...</td>\n      <td>4.0</td>\n      <td>0.08</td>\n      <td>NaN</td>\n      <td>NaN</td>\n      <td>NaN</td>\n      <td>NaN</td>\n      <td>NaN</td>\n      <td>NaN</td>\n      <td>NaN</td>\n      <td>NaN</td>\n    </tr>\n    <tr>\n      <th>...</th>\n      <td>...</td>\n      <td>...</td>\n      <td>...</td>\n      <td>...</td>\n      <td>...</td>\n      <td>...</td>\n      <td>...</td>\n      <td>...</td>\n      <td>...</td>\n      <td>...</td>\n      <td>...</td>\n      <td>...</td>\n      <td>...</td>\n      <td>...</td>\n      <td>...</td>\n      <td>...</td>\n      <td>...</td>\n      <td>...</td>\n      <td>...</td>\n      <td>...</td>\n      <td>...</td>\n    </tr>\n    <tr>\n      <th>3487</th>\n      <td>60</td>\n      <td>Yukon</td>\n      <td>Yukon</td>\n      <td>25-10-2020</td>\n      <td>20</td>\n      <td>0</td>\n      <td>0.0</td>\n      <td>20</td>\n      <td>3857.0</td>\n      <td>15.0</td>\n      <td>...</td>\n      <td>5.0</td>\n      <td>12.24</td>\n      <td>5.0</td>\n      <td>12.24</td>\n      <td>0.0</td>\n      <td>0.00</td>\n      <td>1.0</td>\n      <td>1.75</td>\n      <td>0.0</td>\n      <td>0.00</td>\n    </tr>\n    <tr>\n      <th>3488</th>\n      <td>61</td>\n      <td>Northwest Territories</td>\n      <td>Territoires du Nord-Ouest</td>\n      <td>25-10-2020</td>\n      <td>9</td>\n      <td>0</td>\n      <td>0.0</td>\n      <td>9</td>\n      <td>5259.0</td>\n      <td>5.0</td>\n      <td>...</td>\n      <td>4.0</td>\n      <td>8.92</td>\n      <td>4.0</td>\n      <td>8.92</td>\n      <td>0.0</td>\n      <td>0.00</td>\n      <td>1.0</td>\n      <td>1.27</td>\n      <td>0.0</td>\n      <td>0.00</td>\n    </tr>\n    <tr>\n      <th>3489</th>\n      <td>62</td>\n      <td>Nunavut</td>\n      <td>Nunavut</td>\n      <td>25-10-2020</td>\n      <td>0</td>\n      <td>0</td>\n      <td>0.0</td>\n      <td>0</td>\n      <td>2850.0</td>\n      <td>0.0</td>\n      <td>...</td>\n      <td>NaN</td>\n      <td>0.00</td>\n      <td>0.0</td>\n      <td>0.00</td>\n      <td>0.0</td>\n      <td>0.00</td>\n      <td>0.0</td>\n      <td>0.00</td>\n      <td>0.0</td>\n      <td>0.00</td>\n    </tr>\n    <tr>\n      <th>3490</th>\n      <td>99</td>\n      <td>Repatriated travellers</td>\n      <td>Voyageurs rapatriés</td>\n      <td>25-10-2020</td>\n      <td>13</td>\n      <td>0</td>\n      <td>0.0</td>\n      <td>13</td>\n      <td>76.0</td>\n      <td>13.0</td>\n      <td>...</td>\n      <td>0.0</td>\n      <td>NaN</td>\n      <td>0.0</td>\n      <td>NaN</td>\n      <td>0.0</td>\n      <td>NaN</td>\n      <td>0.0</td>\n      <td>NaN</td>\n      <td>0.0</td>\n      <td>NaN</td>\n    </tr>\n    <tr>\n      <th>3491</th>\n      <td>1</td>\n      <td>Canada</td>\n      <td>Canada</td>\n      <td>25-10-2020</td>\n      <td>216104</td>\n      <td>0</td>\n      <td>9946.0</td>\n      <td>216104</td>\n      <td>9603477.0</td>\n      <td>181429.0</td>\n      <td>...</td>\n      <td>24729.0</td>\n      <td>65.79</td>\n      <td>34240.0</td>\n      <td>91.09</td>\n      <td>333.0</td>\n      <td>0.89</td>\n      <td>2565.0</td>\n      <td>6.82</td>\n      <td>27.0</td>\n      <td>0.07</td>\n    </tr>\n  </tbody>\n</table>\n<p>3492 rows × 31 columns</p>\n</div>"
     },
     "metadata": {},
     "execution_count": 7
    }
   ],
   "source": [
    "pd.read_csv('covid19.csv')"
   ]
  },
  {
   "cell_type": "code",
   "execution_count": null,
   "metadata": {},
   "outputs": [],
   "source": []
  }
 ]
}